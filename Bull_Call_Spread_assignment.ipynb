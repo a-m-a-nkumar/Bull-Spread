{
 "cells": [
  {
   "cell_type": "code",
   "execution_count": 1,
   "id": "2c9381b8",
   "metadata": {},
   "outputs": [],
   "source": [
    "#pip install py_vollib\n"
   ]
  },
  {
   "cell_type": "code",
   "execution_count": 2,
   "id": "f5cbda5d",
   "metadata": {},
   "outputs": [],
   "source": [
    "import pandas as pd\n",
    "import matplotlib.pyplot as plt\n",
    "import numpy as np\n",
    "\n",
    "from datetime import datetime\n",
    "\n",
    "import warnings\n",
    "warnings.filterwarnings(\"ignore\")"
   ]
  },
  {
   "cell_type": "code",
   "execution_count": 3,
   "id": "7dbe2889",
   "metadata": {},
   "outputs": [],
   "source": [
    "import yfinance as yf\n"
   ]
  },
  {
   "cell_type": "code",
   "execution_count": 4,
   "id": "fb426ac9",
   "metadata": {},
   "outputs": [],
   "source": [
    "import scipy.stats as ss\n",
    "\n",
    "import py_vollib.black_scholes.greeks.analytical as derivatives\n",
    "\n",
    "import math"
   ]
  },
  {
   "cell_type": "code",
   "execution_count": 5,
   "id": "44189331",
   "metadata": {},
   "outputs": [
    {
     "data": {
      "text/html": [
       "<div>\n",
       "<style scoped>\n",
       "    .dataframe tbody tr th:only-of-type {\n",
       "        vertical-align: middle;\n",
       "    }\n",
       "\n",
       "    .dataframe tbody tr th {\n",
       "        vertical-align: top;\n",
       "    }\n",
       "\n",
       "    .dataframe thead th {\n",
       "        text-align: right;\n",
       "    }\n",
       "</style>\n",
       "<table border=\"1\" class=\"dataframe\">\n",
       "  <thead>\n",
       "    <tr style=\"text-align: right;\">\n",
       "      <th></th>\n",
       "      <th>Symbol</th>\n",
       "      <th>Date</th>\n",
       "      <th>Expiry</th>\n",
       "      <th>Open</th>\n",
       "      <th>High</th>\n",
       "      <th>Low</th>\n",
       "      <th>Close</th>\n",
       "      <th>LTP</th>\n",
       "      <th>Settle Price</th>\n",
       "      <th>No. of contracts</th>\n",
       "      <th>Turnover in Lacs</th>\n",
       "      <th>Open Int</th>\n",
       "      <th>Change in OI</th>\n",
       "      <th>Underlying Value</th>\n",
       "    </tr>\n",
       "  </thead>\n",
       "  <tbody>\n",
       "    <tr>\n",
       "      <th>0</th>\n",
       "      <td>BANKNIFTY</td>\n",
       "      <td>28-May-2021</td>\n",
       "      <td>24-Jun-2021</td>\n",
       "      <td>35499.00</td>\n",
       "      <td>35670.00</td>\n",
       "      <td>35150.00</td>\n",
       "      <td>35321.80</td>\n",
       "      <td>35394.05</td>\n",
       "      <td>35321.80</td>\n",
       "      <td>151658</td>\n",
       "      <td>1340811.02</td>\n",
       "      <td>1745000</td>\n",
       "      <td>27775</td>\n",
       "      <td>35141.45</td>\n",
       "    </tr>\n",
       "    <tr>\n",
       "      <th>1</th>\n",
       "      <td>BANKNIFTY</td>\n",
       "      <td>31-May-2021</td>\n",
       "      <td>24-Jun-2021</td>\n",
       "      <td>35280.00</td>\n",
       "      <td>35650.00</td>\n",
       "      <td>35063.15</td>\n",
       "      <td>35602.90</td>\n",
       "      <td>35578.25</td>\n",
       "      <td>35602.90</td>\n",
       "      <td>141916</td>\n",
       "      <td>1257088.18</td>\n",
       "      <td>1723450</td>\n",
       "      <td>-21550</td>\n",
       "      <td>-</td>\n",
       "    </tr>\n",
       "    <tr>\n",
       "      <th>2</th>\n",
       "      <td>BANKNIFTY</td>\n",
       "      <td>01-Jun-2021</td>\n",
       "      <td>24-Jun-2021</td>\n",
       "      <td>35677.95</td>\n",
       "      <td>35797.45</td>\n",
       "      <td>35313.95</td>\n",
       "      <td>35454.10</td>\n",
       "      <td>35470.00</td>\n",
       "      <td>35454.10</td>\n",
       "      <td>145631</td>\n",
       "      <td>1292727.92</td>\n",
       "      <td>1731125</td>\n",
       "      <td>7675</td>\n",
       "      <td>-</td>\n",
       "    </tr>\n",
       "    <tr>\n",
       "      <th>3</th>\n",
       "      <td>BANKNIFTY</td>\n",
       "      <td>02-Jun-2021</td>\n",
       "      <td>24-Jun-2021</td>\n",
       "      <td>35380.00</td>\n",
       "      <td>35560.00</td>\n",
       "      <td>35180.00</td>\n",
       "      <td>35524.25</td>\n",
       "      <td>35540.00</td>\n",
       "      <td>35524.25</td>\n",
       "      <td>113559</td>\n",
       "      <td>1003669.30</td>\n",
       "      <td>1700025</td>\n",
       "      <td>-31100</td>\n",
       "      <td>-</td>\n",
       "    </tr>\n",
       "    <tr>\n",
       "      <th>4</th>\n",
       "      <td>BANKNIFTY</td>\n",
       "      <td>03-Jun-2021</td>\n",
       "      <td>24-Jun-2021</td>\n",
       "      <td>35662.20</td>\n",
       "      <td>35890.00</td>\n",
       "      <td>35553.00</td>\n",
       "      <td>35781.95</td>\n",
       "      <td>35775.00</td>\n",
       "      <td>35781.95</td>\n",
       "      <td>121729</td>\n",
       "      <td>1086929.72</td>\n",
       "      <td>1690250</td>\n",
       "      <td>-9775</td>\n",
       "      <td>-</td>\n",
       "    </tr>\n",
       "  </tbody>\n",
       "</table>\n",
       "</div>"
      ],
      "text/plain": [
       "      Symbol         Date       Expiry      Open      High       Low  \\\n",
       "0  BANKNIFTY  28-May-2021  24-Jun-2021  35499.00  35670.00  35150.00   \n",
       "1  BANKNIFTY  31-May-2021  24-Jun-2021  35280.00  35650.00  35063.15   \n",
       "2  BANKNIFTY  01-Jun-2021  24-Jun-2021  35677.95  35797.45  35313.95   \n",
       "3  BANKNIFTY  02-Jun-2021  24-Jun-2021  35380.00  35560.00  35180.00   \n",
       "4  BANKNIFTY  03-Jun-2021  24-Jun-2021  35662.20  35890.00  35553.00   \n",
       "\n",
       "      Close       LTP  Settle Price  No. of contracts  Turnover in Lacs  \\\n",
       "0  35321.80  35394.05      35321.80            151658        1340811.02   \n",
       "1  35602.90  35578.25      35602.90            141916        1257088.18   \n",
       "2  35454.10  35470.00      35454.10            145631        1292727.92   \n",
       "3  35524.25  35540.00      35524.25            113559        1003669.30   \n",
       "4  35781.95  35775.00      35781.95            121729        1086929.72   \n",
       "\n",
       "   Open Int  Change in OI Underlying Value   \n",
       "0   1745000         27775          35141.45  \n",
       "1   1723450        -21550                 -  \n",
       "2   1731125          7675                 -  \n",
       "3   1700025        -31100                 -  \n",
       "4   1690250         -9775                 -  "
      ]
     },
     "execution_count": 5,
     "metadata": {},
     "output_type": "execute_result"
    }
   ],
   "source": [
    "df_fut = pd.read_csv('FUTIDX_BANKNIFTY_28-May-2021_TO_24-Jun-2021.txt')  #Fill in with the address of where you downloaded the file. You can check in properties of the file\n",
    "df_fut.head()"
   ]
  },
  {
   "cell_type": "code",
   "execution_count": 6,
   "id": "1c2bb5c3",
   "metadata": {},
   "outputs": [
    {
     "data": {
      "text/html": [
       "<div>\n",
       "<style scoped>\n",
       "    .dataframe tbody tr th:only-of-type {\n",
       "        vertical-align: middle;\n",
       "    }\n",
       "\n",
       "    .dataframe tbody tr th {\n",
       "        vertical-align: top;\n",
       "    }\n",
       "\n",
       "    .dataframe thead th {\n",
       "        text-align: right;\n",
       "    }\n",
       "</style>\n",
       "<table border=\"1\" class=\"dataframe\">\n",
       "  <thead>\n",
       "    <tr style=\"text-align: right;\">\n",
       "      <th></th>\n",
       "      <th>Symbol</th>\n",
       "      <th>Date</th>\n",
       "      <th>Expiry</th>\n",
       "      <th>Option Type</th>\n",
       "      <th>Strike Price</th>\n",
       "      <th>Open</th>\n",
       "      <th>High</th>\n",
       "      <th>Low</th>\n",
       "      <th>Close</th>\n",
       "      <th>LTP</th>\n",
       "      <th>Settle Price</th>\n",
       "      <th>No. of contracts</th>\n",
       "      <th>Turnover in Lacs</th>\n",
       "      <th>Premium Turnover in Lacs</th>\n",
       "      <th>Open Int</th>\n",
       "      <th>Change in OI</th>\n",
       "      <th>Underlying Value</th>\n",
       "    </tr>\n",
       "  </thead>\n",
       "  <tbody>\n",
       "    <tr>\n",
       "      <th>0</th>\n",
       "      <td>BANKNIFTY</td>\n",
       "      <td>28-May-2021</td>\n",
       "      <td>24-Jun-2021</td>\n",
       "      <td>CE</td>\n",
       "      <td>36000</td>\n",
       "      <td>849.95</td>\n",
       "      <td>924.50</td>\n",
       "      <td>665.60</td>\n",
       "      <td>730.80</td>\n",
       "      <td>743.30</td>\n",
       "      <td>730.80</td>\n",
       "      <td>26704</td>\n",
       "      <td>245464.26</td>\n",
       "      <td>5128.26</td>\n",
       "      <td>320700</td>\n",
       "      <td>116225</td>\n",
       "      <td>35141.45</td>\n",
       "    </tr>\n",
       "    <tr>\n",
       "      <th>1</th>\n",
       "      <td>BANKNIFTY</td>\n",
       "      <td>31-May-2021</td>\n",
       "      <td>24-Jun-2021</td>\n",
       "      <td>CE</td>\n",
       "      <td>36000</td>\n",
       "      <td>693.90</td>\n",
       "      <td>790.00</td>\n",
       "      <td>598.10</td>\n",
       "      <td>772.95</td>\n",
       "      <td>752.05</td>\n",
       "      <td>772.95</td>\n",
       "      <td>19525</td>\n",
       "      <td>179242.57</td>\n",
       "      <td>3517.57</td>\n",
       "      <td>331150</td>\n",
       "      <td>10450</td>\n",
       "      <td>-</td>\n",
       "    </tr>\n",
       "    <tr>\n",
       "      <th>2</th>\n",
       "      <td>BANKNIFTY</td>\n",
       "      <td>01-Jun-2021</td>\n",
       "      <td>24-Jun-2021</td>\n",
       "      <td>CE</td>\n",
       "      <td>36000</td>\n",
       "      <td>782.00</td>\n",
       "      <td>832.00</td>\n",
       "      <td>633.35</td>\n",
       "      <td>660.65</td>\n",
       "      <td>661.00</td>\n",
       "      <td>660.65</td>\n",
       "      <td>31536</td>\n",
       "      <td>289503.11</td>\n",
       "      <td>5679.11</td>\n",
       "      <td>313700</td>\n",
       "      <td>-17450</td>\n",
       "      <td>-</td>\n",
       "    </tr>\n",
       "    <tr>\n",
       "      <th>3</th>\n",
       "      <td>BANKNIFTY</td>\n",
       "      <td>02-Jun-2021</td>\n",
       "      <td>24-Jun-2021</td>\n",
       "      <td>CE</td>\n",
       "      <td>36000</td>\n",
       "      <td>575.50</td>\n",
       "      <td>625.95</td>\n",
       "      <td>533.85</td>\n",
       "      <td>612.70</td>\n",
       "      <td>606.85</td>\n",
       "      <td>612.70</td>\n",
       "      <td>19060</td>\n",
       "      <td>174293.32</td>\n",
       "      <td>2753.32</td>\n",
       "      <td>324475</td>\n",
       "      <td>10775</td>\n",
       "      <td>-</td>\n",
       "    </tr>\n",
       "    <tr>\n",
       "      <th>4</th>\n",
       "      <td>BANKNIFTY</td>\n",
       "      <td>03-Jun-2021</td>\n",
       "      <td>24-Jun-2021</td>\n",
       "      <td>CE</td>\n",
       "      <td>36000</td>\n",
       "      <td>659.05</td>\n",
       "      <td>753.90</td>\n",
       "      <td>596.50</td>\n",
       "      <td>698.40</td>\n",
       "      <td>696.00</td>\n",
       "      <td>698.40</td>\n",
       "      <td>24549</td>\n",
       "      <td>225062.12</td>\n",
       "      <td>4121.12</td>\n",
       "      <td>328425</td>\n",
       "      <td>3950</td>\n",
       "      <td>-</td>\n",
       "    </tr>\n",
       "  </tbody>\n",
       "</table>\n",
       "</div>"
      ],
      "text/plain": [
       "      Symbol         Date       Expiry Option Type  Strike Price    Open  \\\n",
       "0  BANKNIFTY  28-May-2021  24-Jun-2021          CE         36000  849.95   \n",
       "1  BANKNIFTY  31-May-2021  24-Jun-2021          CE         36000  693.90   \n",
       "2  BANKNIFTY  01-Jun-2021  24-Jun-2021          CE         36000  782.00   \n",
       "3  BANKNIFTY  02-Jun-2021  24-Jun-2021          CE         36000  575.50   \n",
       "4  BANKNIFTY  03-Jun-2021  24-Jun-2021          CE         36000  659.05   \n",
       "\n",
       "     High     Low   Close     LTP  Settle Price  No. of contracts  \\\n",
       "0  924.50  665.60  730.80  743.30        730.80             26704   \n",
       "1  790.00  598.10  772.95  752.05        772.95             19525   \n",
       "2  832.00  633.35  660.65  661.00        660.65             31536   \n",
       "3  625.95  533.85  612.70  606.85        612.70             19060   \n",
       "4  753.90  596.50  698.40  696.00        698.40             24549   \n",
       "\n",
       "   Turnover in Lacs  Premium Turnover in Lacs  Open Int  Change in OI  \\\n",
       "0         245464.26                   5128.26    320700        116225   \n",
       "1         179242.57                   3517.57    331150         10450   \n",
       "2         289503.11                   5679.11    313700        -17450   \n",
       "3         174293.32                   2753.32    324475         10775   \n",
       "4         225062.12                   4121.12    328425          3950   \n",
       "\n",
       "  Underlying Value  \n",
       "0         35141.45  \n",
       "1                -  \n",
       "2                -  \n",
       "3                -  \n",
       "4                -  "
      ]
     },
     "execution_count": 6,
     "metadata": {},
     "output_type": "execute_result"
    }
   ],
   "source": [
    "df_call_36000 = pd.read_csv('OPTIDX_BANKNIFTY_CE_28-May-2021_TO_24-Jun-2021.txt')\n",
    "df_call_36000.head()"
   ]
  },
  {
   "cell_type": "code",
   "execution_count": 7,
   "id": "eed3ea14",
   "metadata": {},
   "outputs": [],
   "source": [
    "symbol = '^NSEBANK'\n",
    "end = '2021-06-25'\n",
    "start = '2021-05-28'"
   ]
  },
  {
   "cell_type": "code",
   "execution_count": 8,
   "id": "ccda38bf",
   "metadata": {},
   "outputs": [
    {
     "name": "stdout",
     "output_type": "stream",
     "text": [
      "[*********************100%***********************]  1 of 1 completed\n"
     ]
    },
    {
     "data": {
      "text/html": [
       "<div>\n",
       "<style scoped>\n",
       "    .dataframe tbody tr th:only-of-type {\n",
       "        vertical-align: middle;\n",
       "    }\n",
       "\n",
       "    .dataframe tbody tr th {\n",
       "        vertical-align: top;\n",
       "    }\n",
       "\n",
       "    .dataframe thead th {\n",
       "        text-align: right;\n",
       "    }\n",
       "</style>\n",
       "<table border=\"1\" class=\"dataframe\">\n",
       "  <thead>\n",
       "    <tr style=\"text-align: right;\">\n",
       "      <th></th>\n",
       "      <th>Open</th>\n",
       "      <th>High</th>\n",
       "      <th>Low</th>\n",
       "      <th>Close</th>\n",
       "      <th>Adj Close</th>\n",
       "      <th>Volume</th>\n",
       "    </tr>\n",
       "    <tr>\n",
       "      <th>Date</th>\n",
       "      <th></th>\n",
       "      <th></th>\n",
       "      <th></th>\n",
       "      <th></th>\n",
       "      <th></th>\n",
       "      <th></th>\n",
       "    </tr>\n",
       "  </thead>\n",
       "  <tbody>\n",
       "    <tr>\n",
       "      <th>2021-05-28</th>\n",
       "      <td>35345.648438</td>\n",
       "      <td>35436.648438</td>\n",
       "      <td>34977.199219</td>\n",
       "      <td>35141.449219</td>\n",
       "      <td>35141.449219</td>\n",
       "      <td>0</td>\n",
       "    </tr>\n",
       "    <tr>\n",
       "      <th>2021-05-31</th>\n",
       "      <td>35097.449219</td>\n",
       "      <td>35584.300781</td>\n",
       "      <td>34930.101562</td>\n",
       "      <td>35526.648438</td>\n",
       "      <td>35526.648438</td>\n",
       "      <td>0</td>\n",
       "    </tr>\n",
       "    <tr>\n",
       "      <th>2021-06-01</th>\n",
       "      <td>35639.750000</td>\n",
       "      <td>35713.898438</td>\n",
       "      <td>35241.199219</td>\n",
       "      <td>35337.199219</td>\n",
       "      <td>35337.199219</td>\n",
       "      <td>0</td>\n",
       "    </tr>\n",
       "    <tr>\n",
       "      <th>2021-06-02</th>\n",
       "      <td>35271.601562</td>\n",
       "      <td>35415.851562</td>\n",
       "      <td>35070.300781</td>\n",
       "      <td>35373.750000</td>\n",
       "      <td>35373.750000</td>\n",
       "      <td>0</td>\n",
       "    </tr>\n",
       "    <tr>\n",
       "      <th>2021-06-03</th>\n",
       "      <td>35536.449219</td>\n",
       "      <td>35723.699219</td>\n",
       "      <td>35413.000000</td>\n",
       "      <td>35649.000000</td>\n",
       "      <td>35649.000000</td>\n",
       "      <td>0</td>\n",
       "    </tr>\n",
       "  </tbody>\n",
       "</table>\n",
       "</div>"
      ],
      "text/plain": [
       "                    Open          High           Low         Close  \\\n",
       "Date                                                                 \n",
       "2021-05-28  35345.648438  35436.648438  34977.199219  35141.449219   \n",
       "2021-05-31  35097.449219  35584.300781  34930.101562  35526.648438   \n",
       "2021-06-01  35639.750000  35713.898438  35241.199219  35337.199219   \n",
       "2021-06-02  35271.601562  35415.851562  35070.300781  35373.750000   \n",
       "2021-06-03  35536.449219  35723.699219  35413.000000  35649.000000   \n",
       "\n",
       "               Adj Close  Volume  \n",
       "Date                              \n",
       "2021-05-28  35141.449219       0  \n",
       "2021-05-31  35526.648438       0  \n",
       "2021-06-01  35337.199219       0  \n",
       "2021-06-02  35373.750000       0  \n",
       "2021-06-03  35649.000000       0  "
      ]
     },
     "execution_count": 8,
     "metadata": {},
     "output_type": "execute_result"
    }
   ],
   "source": [
    "df = yf.download(symbol,start,end)\n",
    "\n",
    "df.head()"
   ]
  },
  {
   "cell_type": "code",
   "execution_count": 9,
   "id": "068a62b8",
   "metadata": {},
   "outputs": [],
   "source": [
    "symbol = '^NSEBANK'\n",
    "end = '2021-05-28'\n",
    "start = '2020-05-28'"
   ]
  },
  {
   "cell_type": "code",
   "execution_count": 48,
   "id": "71e9a381",
   "metadata": {},
   "outputs": [
    {
     "name": "stdout",
     "output_type": "stream",
     "text": [
      "[*********************100%***********************]  1 of 1 completed\n"
     ]
    },
    {
     "data": {
      "text/html": [
       "<div>\n",
       "<style scoped>\n",
       "    .dataframe tbody tr th:only-of-type {\n",
       "        vertical-align: middle;\n",
       "    }\n",
       "\n",
       "    .dataframe tbody tr th {\n",
       "        vertical-align: top;\n",
       "    }\n",
       "\n",
       "    .dataframe thead th {\n",
       "        text-align: right;\n",
       "    }\n",
       "</style>\n",
       "<table border=\"1\" class=\"dataframe\">\n",
       "  <thead>\n",
       "    <tr style=\"text-align: right;\">\n",
       "      <th></th>\n",
       "      <th>Open</th>\n",
       "      <th>High</th>\n",
       "      <th>Low</th>\n",
       "      <th>Close</th>\n",
       "      <th>Adj Close</th>\n",
       "      <th>Volume</th>\n",
       "    </tr>\n",
       "    <tr>\n",
       "      <th>Date</th>\n",
       "      <th></th>\n",
       "      <th></th>\n",
       "      <th></th>\n",
       "      <th></th>\n",
       "      <th></th>\n",
       "      <th></th>\n",
       "    </tr>\n",
       "  </thead>\n",
       "  <tbody>\n",
       "    <tr>\n",
       "      <th>2020-05-28</th>\n",
       "      <td>18924.449219</td>\n",
       "      <td>19455.550781</td>\n",
       "      <td>18818.949219</td>\n",
       "      <td>19169.800781</td>\n",
       "      <td>19169.800781</td>\n",
       "      <td>561100</td>\n",
       "    </tr>\n",
       "    <tr>\n",
       "      <th>2020-05-29</th>\n",
       "      <td>18962.000000</td>\n",
       "      <td>19358.050781</td>\n",
       "      <td>18729.900391</td>\n",
       "      <td>19297.250000</td>\n",
       "      <td>19297.250000</td>\n",
       "      <td>581700</td>\n",
       "    </tr>\n",
       "    <tr>\n",
       "      <th>2020-06-01</th>\n",
       "      <td>19728.900391</td>\n",
       "      <td>20225.349609</td>\n",
       "      <td>19632.900391</td>\n",
       "      <td>19959.900391</td>\n",
       "      <td>19959.900391</td>\n",
       "      <td>558100</td>\n",
       "    </tr>\n",
       "    <tr>\n",
       "      <th>2020-06-02</th>\n",
       "      <td>20120.599609</td>\n",
       "      <td>20615.750000</td>\n",
       "      <td>19852.550781</td>\n",
       "      <td>20530.199219</td>\n",
       "      <td>20530.199219</td>\n",
       "      <td>448300</td>\n",
       "    </tr>\n",
       "    <tr>\n",
       "      <th>2020-06-03</th>\n",
       "      <td>20966.599609</td>\n",
       "      <td>21619.550781</td>\n",
       "      <td>20822.000000</td>\n",
       "      <td>20940.699219</td>\n",
       "      <td>20940.699219</td>\n",
       "      <td>616900</td>\n",
       "    </tr>\n",
       "  </tbody>\n",
       "</table>\n",
       "</div>"
      ],
      "text/plain": [
       "                    Open          High           Low         Close  \\\n",
       "Date                                                                 \n",
       "2020-05-28  18924.449219  19455.550781  18818.949219  19169.800781   \n",
       "2020-05-29  18962.000000  19358.050781  18729.900391  19297.250000   \n",
       "2020-06-01  19728.900391  20225.349609  19632.900391  19959.900391   \n",
       "2020-06-02  20120.599609  20615.750000  19852.550781  20530.199219   \n",
       "2020-06-03  20966.599609  21619.550781  20822.000000  20940.699219   \n",
       "\n",
       "               Adj Close  Volume  \n",
       "Date                              \n",
       "2020-05-28  19169.800781  561100  \n",
       "2020-05-29  19297.250000  581700  \n",
       "2020-06-01  19959.900391  558100  \n",
       "2020-06-02  20530.199219  448300  \n",
       "2020-06-03  20940.699219  616900  "
      ]
     },
     "execution_count": 48,
     "metadata": {},
     "output_type": "execute_result"
    }
   ],
   "source": [
    "df_year= yf.download(symbol,start,end)\n",
    "df_year.head()\n"
   ]
  },
  {
   "cell_type": "code",
   "execution_count": 49,
   "id": "d71be321",
   "metadata": {},
   "outputs": [],
   "source": [
    "ret = df_year['Close'].pct_change()[1:]"
   ]
  },
  {
   "cell_type": "code",
   "execution_count": 50,
   "id": "d94c4a2f",
   "metadata": {},
   "outputs": [
    {
     "data": {
      "text/plain": [
       "Date\n",
       "2020-05-29    0.006648\n",
       "2020-06-01    0.034339\n",
       "2020-06-02    0.028572\n",
       "2020-06-03    0.019995\n",
       "2020-06-04   -0.026277\n",
       "Name: Close, dtype: float64"
      ]
     },
     "execution_count": 50,
     "metadata": {},
     "output_type": "execute_result"
    }
   ],
   "source": [
    "ret.head()\n"
   ]
  },
  {
   "cell_type": "code",
   "execution_count": 15,
   "id": "28f87a7f",
   "metadata": {},
   "outputs": [
    {
     "data": {
      "text/plain": [
       "0.018580334637206992"
      ]
     },
     "execution_count": 15,
     "metadata": {},
     "output_type": "execute_result"
    }
   ],
   "source": [
    "daily_vol = ret.std()\n",
    "daily_vol\n"
   ]
  },
  {
   "cell_type": "code",
   "execution_count": 17,
   "id": "e2c00c2d",
   "metadata": {},
   "outputs": [
    {
     "data": {
      "text/plain": [
       "0.2949536683584554"
      ]
     },
     "execution_count": 17,
     "metadata": {},
     "output_type": "execute_result"
    }
   ],
   "source": [
    "annual_vol=math.sqrt(252)*daily_vol\n",
    "annual_vol"
   ]
  },
  {
   "cell_type": "code",
   "execution_count": 54,
   "id": "085bd8f2",
   "metadata": {},
   "outputs": [],
   "source": [
    "expiry = datetime.strptime('2021-06-24', '%Y-%m-%d')   #Expiry date\n"
   ]
  },
  {
   "cell_type": "code",
   "execution_count": 55,
   "id": "ef0b5fbd",
   "metadata": {},
   "outputs": [
    {
     "data": {
      "text/plain": [
       "TimedeltaIndex(['392 days', '391 days', '388 days', '387 days', '386 days',\n",
       "                '385 days', '384 days', '381 days', '380 days', '379 days',\n",
       "                ...\n",
       "                 '41 days',  '38 days',  '37 days',  '36 days',  '35 days',\n",
       "                 '34 days',  '31 days',  '30 days',  '29 days',  '28 days'],\n",
       "               dtype='timedelta64[ns]', name='Date', length=249, freq=None)"
      ]
     },
     "execution_count": 55,
     "metadata": {},
     "output_type": "execute_result"
    }
   ],
   "source": [
    "time = expiry-df.index    #Time left in days\n",
    "time"
   ]
  },
  {
   "cell_type": "code",
   "execution_count": 77,
   "id": "757c4c4c",
   "metadata": {},
   "outputs": [
    {
     "ename": "AttributeError",
     "evalue": "'Int64Index' object has no attribute 'days'",
     "output_type": "error",
     "traceback": [
      "\u001b[1;31m---------------------------------------------------------------------------\u001b[0m",
      "\u001b[1;31mAttributeError\u001b[0m                            Traceback (most recent call last)",
      "\u001b[1;32m~\\AppData\\Local\\Temp/ipykernel_26912/3362039915.py\u001b[0m in \u001b[0;36m<module>\u001b[1;34m\u001b[0m\n\u001b[1;32m----> 1\u001b[1;33m \u001b[0mtime\u001b[0m\u001b[1;33m=\u001b[0m\u001b[0mtime\u001b[0m\u001b[1;33m.\u001b[0m\u001b[0mdays\u001b[0m\u001b[1;33m\u001b[0m\u001b[1;33m\u001b[0m\u001b[0m\n\u001b[0m",
      "\u001b[1;31mAttributeError\u001b[0m: 'Int64Index' object has no attribute 'days'"
     ]
    }
   ],
   "source": [
    "time=time.days\n"
   ]
  },
  {
   "cell_type": "code",
   "execution_count": 59,
   "id": "472fbf90",
   "metadata": {},
   "outputs": [
    {
     "data": {
      "text/plain": [
       "Int64Index([392, 391, 388, 387, 386, 385, 384, 381, 380, 379,\n",
       "            ...\n",
       "             41,  38,  37,  36,  35,  34,  31,  30,  29,  28],\n",
       "           dtype='int64', name='Date', length=249)"
      ]
     },
     "execution_count": 59,
     "metadata": {},
     "output_type": "execute_result"
    }
   ],
   "source": [
    "import datetime as dt\n",
    "time"
   ]
  },
  {
   "cell_type": "markdown",
   "id": "a90eb7ae",
   "metadata": {},
   "source": [
    "Initial buying and selling\n",
    "\n"
   ]
  },
  {
   "cell_type": "code",
   "execution_count": 60,
   "id": "7ee0d833",
   "metadata": {},
   "outputs": [],
   "source": [
    "no_of_lots_fut = 10           #number of future lots we bought at start of the month\n",
    "buy_avg_future = df_fut['Open'][0]       #buying average of that lot\n",
    "lot_size = 25     #lot size of bank nifty\n",
    "delta = 1*no_of_lots_fut*lot_size    #taking delta of future is 1 as if banknifty changes by 1 the future would also change by 1\n",
    "delta_to_maintain = 0.8*no_of_lots_fut*lot_size#Maintain 0.8 delta per future contract"
   ]
  },
  {
   "cell_type": "code",
   "execution_count": 61,
   "id": "22a3892c",
   "metadata": {},
   "outputs": [
    {
     "data": {
      "text/plain": [
       "0.04091615824385745"
      ]
     },
     "execution_count": 61,
     "metadata": {},
     "output_type": "execute_result"
    }
   ],
   "source": [
    "flag = 'c'   #for call or put option\n",
    "S = df['Open'][0]    #price of the underlying\n",
    "K = 36000   #strike price\n",
    "t = time[0]/365   #time left to expiry in years\n",
    "sigma = annual_vol   #volatility\n",
    "r = 0.06  #risk free rate\n",
    "delta_per_lot_call =derivatives.delta(flag,S,K,t,r,sigma) #Calculate delta per lot\n",
    "delta_per_lot_call"
   ]
  },
  {
   "cell_type": "code",
   "execution_count": 62,
   "id": "ab80f73a",
   "metadata": {},
   "outputs": [
    {
     "data": {
      "text/plain": [
       "200.0"
      ]
     },
     "execution_count": 62,
     "metadata": {},
     "output_type": "execute_result"
    }
   ],
   "source": [
    "delta_to_maintain\n"
   ]
  },
  {
   "cell_type": "code",
   "execution_count": 63,
   "id": "814dc7ad",
   "metadata": {},
   "outputs": [
    {
     "data": {
      "text/plain": [
       "250"
      ]
     },
     "execution_count": 63,
     "metadata": {},
     "output_type": "execute_result"
    }
   ],
   "source": [
    "delta"
   ]
  },
  {
   "cell_type": "code",
   "execution_count": 64,
   "id": "105a54c4",
   "metadata": {},
   "outputs": [],
   "source": [
    "number_of_lots_call = int((delta-delta_to_maintain)/delta_per_lot_call) #Calculate Number of call lots we have to sell to keep delta of 200\n"
   ]
  },
  {
   "cell_type": "code",
   "execution_count": 65,
   "id": "6760b4e1",
   "metadata": {},
   "outputs": [
    {
     "data": {
      "text/plain": [
       "1222"
      ]
     },
     "execution_count": 65,
     "metadata": {},
     "output_type": "execute_result"
    }
   ],
   "source": [
    "number_of_lots_call\n"
   ]
  },
  {
   "cell_type": "code",
   "execution_count": 66,
   "id": "6b472c13",
   "metadata": {},
   "outputs": [
    {
     "data": {
      "text/plain": [
       "849.95"
      ]
     },
     "execution_count": 66,
     "metadata": {},
     "output_type": "execute_result"
    }
   ],
   "source": [
    "sell_avg_call = df_call_36000['Open'][0]  #selling avg of call \n",
    "sell_avg_call"
   ]
  },
  {
   "cell_type": "code",
   "execution_count": 67,
   "id": "1a082e7b",
   "metadata": {},
   "outputs": [],
   "source": [
    "# Before moving on to managing delta, answer a few questions:\n",
    "\n",
    "#Q1 : What do you think would happen to the delta of call option as banknifty goes up? (increase/decrease) \n",
    "#Ans : Delta will increase\n",
    "\n",
    "#Q2 : So to manage the delta what would be done to call options already sold? (Buy some call options / Sell more) \n",
    "#Hint : Remember selling call options would give negative delta\n",
    "#Ans : To maintain delta at 200 we need to sell more call option"
   ]
  },
  {
   "cell_type": "markdown",
   "id": "3988d0ce",
   "metadata": {},
   "source": [
    "Managing delta"
   ]
  },
  {
   "cell_type": "code",
   "execution_count": 69,
   "id": "8c8f4d78",
   "metadata": {},
   "outputs": [
    {
     "name": "stdout",
     "output_type": "stream",
     "text": [
      "35321.8 35499.0 849.95 730.8\n",
      "35602.9 35499.0 693.9 772.95\n",
      "35454.1 35499.0 782.0 660.65\n",
      "35524.25 35499.0 575.5 612.7\n",
      "35781.95 35499.0 659.05 698.4\n",
      "35508.5 35499.0 677.1 549.15\n",
      "35622.2 35499.0 563.0 537.05\n",
      "35265.3 35499.0 501.95 349.15\n",
      "34929.35 35499.0 330.7 234.7\n",
      "35266.35 35499.0 218.95 306.15\n",
      "35169.35 35499.0 352.7 242.95\n",
      "35065.1 35499.0 192.6 172.55\n",
      "35330.4 35499.0 176.35 203.7\n",
      "35101.35 35499.0 177.25 145.05\n",
      "34682.2 35499.0 86.95 55.9\n",
      "34596.75 35499.0 57.3 32.05\n",
      "34911.1 35499.0 28.0 25.65\n",
      "34775.8 35499.0 64.05 14.7\n",
      "34611.9 35499.0 19.9 8.1\n",
      "34819.95 35499.0 4.4 0.25\n"
     ]
    },
    {
     "ename": "KeyError",
     "evalue": "20",
     "output_type": "error",
     "traceback": [
      "\u001b[1;31m---------------------------------------------------------------------------\u001b[0m",
      "\u001b[1;31mValueError\u001b[0m                                Traceback (most recent call last)",
      "\u001b[1;32mC:\\ProgramData\\Anaconda3\\lib\\site-packages\\pandas\\core\\indexes\\range.py\u001b[0m in \u001b[0;36mget_loc\u001b[1;34m(self, key, method, tolerance)\u001b[0m\n\u001b[0;32m    384\u001b[0m                 \u001b[1;32mtry\u001b[0m\u001b[1;33m:\u001b[0m\u001b[1;33m\u001b[0m\u001b[1;33m\u001b[0m\u001b[0m\n\u001b[1;32m--> 385\u001b[1;33m                     \u001b[1;32mreturn\u001b[0m \u001b[0mself\u001b[0m\u001b[1;33m.\u001b[0m\u001b[0m_range\u001b[0m\u001b[1;33m.\u001b[0m\u001b[0mindex\u001b[0m\u001b[1;33m(\u001b[0m\u001b[0mnew_key\u001b[0m\u001b[1;33m)\u001b[0m\u001b[1;33m\u001b[0m\u001b[1;33m\u001b[0m\u001b[0m\n\u001b[0m\u001b[0;32m    386\u001b[0m                 \u001b[1;32mexcept\u001b[0m \u001b[0mValueError\u001b[0m \u001b[1;32mas\u001b[0m \u001b[0merr\u001b[0m\u001b[1;33m:\u001b[0m\u001b[1;33m\u001b[0m\u001b[1;33m\u001b[0m\u001b[0m\n",
      "\u001b[1;31mValueError\u001b[0m: 20 is not in range",
      "\nThe above exception was the direct cause of the following exception:\n",
      "\u001b[1;31mKeyError\u001b[0m                                  Traceback (most recent call last)",
      "\u001b[1;32m~\\AppData\\Local\\Temp/ipykernel_26912/2695877545.py\u001b[0m in \u001b[0;36m<module>\u001b[1;34m\u001b[0m\n\u001b[0;32m      7\u001b[0m     \u001b[0mcurrent_number_of_lots_call\u001b[0m \u001b[1;33m=\u001b[0m \u001b[0mnumber_of_lots_call\u001b[0m\u001b[1;31m#number of lots required to sell\u001b[0m\u001b[1;33m\u001b[0m\u001b[1;33m\u001b[0m\u001b[0m\n\u001b[0;32m      8\u001b[0m     \u001b[0mno_of_lots_added\u001b[0m \u001b[1;33m=\u001b[0m  \u001b[0mmath\u001b[0m\u001b[1;33m.\u001b[0m\u001b[0mceil\u001b[0m\u001b[1;33m(\u001b[0m\u001b[1;33m(\u001b[0m\u001b[0mdelta\u001b[0m\u001b[1;33m-\u001b[0m\u001b[0mdelta_to_maintain\u001b[0m\u001b[1;33m)\u001b[0m\u001b[1;33m/\u001b[0m\u001b[0mdelta_per_lot_call\u001b[0m\u001b[1;33m)\u001b[0m \u001b[1;33m-\u001b[0m \u001b[0mcurrent_number_of_lots_call\u001b[0m\u001b[1;31m#number of lots added/subtracted for selling\u001b[0m\u001b[1;33m\u001b[0m\u001b[1;33m\u001b[0m\u001b[0m\n\u001b[1;32m----> 9\u001b[1;33m     \u001b[0msell_avg_call\u001b[0m \u001b[1;33m=\u001b[0m \u001b[0mdf_call_36000\u001b[0m\u001b[1;33m[\u001b[0m\u001b[1;34m'Open'\u001b[0m\u001b[1;33m]\u001b[0m\u001b[1;33m[\u001b[0m\u001b[0mi\u001b[0m\u001b[1;33m]\u001b[0m\u001b[1;31m#new selling avg of call\u001b[0m\u001b[1;33m\u001b[0m\u001b[1;33m\u001b[0m\u001b[0m\n\u001b[0m\u001b[0;32m     10\u001b[0m     \u001b[0mnumber_of_lots_call\u001b[0m \u001b[1;33m=\u001b[0m \u001b[0mcurrent_number_of_lots_call\u001b[0m \u001b[1;33m+\u001b[0m \u001b[0mno_of_lots_added\u001b[0m\u001b[1;31m#update number of lots of calls sold\u001b[0m\u001b[1;33m\u001b[0m\u001b[1;33m\u001b[0m\u001b[0m\n\u001b[0;32m     11\u001b[0m     \u001b[0mprofit\u001b[0m\u001b[1;33m.\u001b[0m\u001b[0mappend\u001b[0m\u001b[1;33m(\u001b[0m\u001b[1;33m(\u001b[0m\u001b[0mdf_fut\u001b[0m\u001b[1;33m[\u001b[0m\u001b[1;34m'Close'\u001b[0m\u001b[1;33m]\u001b[0m\u001b[1;33m[\u001b[0m\u001b[0mi\u001b[0m\u001b[1;33m]\u001b[0m\u001b[1;33m-\u001b[0m\u001b[0mbuy_avg_future\u001b[0m\u001b[1;33m)\u001b[0m\u001b[1;33m*\u001b[0m\u001b[0mno_of_lots_fut\u001b[0m\u001b[1;33m*\u001b[0m\u001b[0mlot_size\u001b[0m \u001b[1;33m+\u001b[0m \u001b[1;33m(\u001b[0m\u001b[0msell_avg_call\u001b[0m\u001b[1;33m-\u001b[0m\u001b[0mdf_call_36000\u001b[0m\u001b[1;33m[\u001b[0m\u001b[1;34m'Close'\u001b[0m\u001b[1;33m]\u001b[0m\u001b[1;33m[\u001b[0m\u001b[0mi\u001b[0m\u001b[1;33m]\u001b[0m\u001b[1;33m)\u001b[0m\u001b[1;33m*\u001b[0m\u001b[0mlot_size\u001b[0m\u001b[1;33m*\u001b[0m\u001b[0mnumber_of_lots_call\u001b[0m\u001b[1;33m)\u001b[0m  \u001b[1;31m#unrealised profit\u001b[0m\u001b[1;33m\u001b[0m\u001b[1;33m\u001b[0m\u001b[0m\n",
      "\u001b[1;32mC:\\ProgramData\\Anaconda3\\lib\\site-packages\\pandas\\core\\series.py\u001b[0m in \u001b[0;36m__getitem__\u001b[1;34m(self, key)\u001b[0m\n\u001b[0;32m    940\u001b[0m \u001b[1;33m\u001b[0m\u001b[0m\n\u001b[0;32m    941\u001b[0m         \u001b[1;32melif\u001b[0m \u001b[0mkey_is_scalar\u001b[0m\u001b[1;33m:\u001b[0m\u001b[1;33m\u001b[0m\u001b[1;33m\u001b[0m\u001b[0m\n\u001b[1;32m--> 942\u001b[1;33m             \u001b[1;32mreturn\u001b[0m \u001b[0mself\u001b[0m\u001b[1;33m.\u001b[0m\u001b[0m_get_value\u001b[0m\u001b[1;33m(\u001b[0m\u001b[0mkey\u001b[0m\u001b[1;33m)\u001b[0m\u001b[1;33m\u001b[0m\u001b[1;33m\u001b[0m\u001b[0m\n\u001b[0m\u001b[0;32m    943\u001b[0m \u001b[1;33m\u001b[0m\u001b[0m\n\u001b[0;32m    944\u001b[0m         \u001b[1;32mif\u001b[0m \u001b[0mis_hashable\u001b[0m\u001b[1;33m(\u001b[0m\u001b[0mkey\u001b[0m\u001b[1;33m)\u001b[0m\u001b[1;33m:\u001b[0m\u001b[1;33m\u001b[0m\u001b[1;33m\u001b[0m\u001b[0m\n",
      "\u001b[1;32mC:\\ProgramData\\Anaconda3\\lib\\site-packages\\pandas\\core\\series.py\u001b[0m in \u001b[0;36m_get_value\u001b[1;34m(self, label, takeable)\u001b[0m\n\u001b[0;32m   1049\u001b[0m \u001b[1;33m\u001b[0m\u001b[0m\n\u001b[0;32m   1050\u001b[0m         \u001b[1;31m# Similar to Index.get_value, but we do not fall back to positional\u001b[0m\u001b[1;33m\u001b[0m\u001b[1;33m\u001b[0m\u001b[0m\n\u001b[1;32m-> 1051\u001b[1;33m         \u001b[0mloc\u001b[0m \u001b[1;33m=\u001b[0m \u001b[0mself\u001b[0m\u001b[1;33m.\u001b[0m\u001b[0mindex\u001b[0m\u001b[1;33m.\u001b[0m\u001b[0mget_loc\u001b[0m\u001b[1;33m(\u001b[0m\u001b[0mlabel\u001b[0m\u001b[1;33m)\u001b[0m\u001b[1;33m\u001b[0m\u001b[1;33m\u001b[0m\u001b[0m\n\u001b[0m\u001b[0;32m   1052\u001b[0m         \u001b[1;32mreturn\u001b[0m \u001b[0mself\u001b[0m\u001b[1;33m.\u001b[0m\u001b[0mindex\u001b[0m\u001b[1;33m.\u001b[0m\u001b[0m_get_values_for_loc\u001b[0m\u001b[1;33m(\u001b[0m\u001b[0mself\u001b[0m\u001b[1;33m,\u001b[0m \u001b[0mloc\u001b[0m\u001b[1;33m,\u001b[0m \u001b[0mlabel\u001b[0m\u001b[1;33m)\u001b[0m\u001b[1;33m\u001b[0m\u001b[1;33m\u001b[0m\u001b[0m\n\u001b[0;32m   1053\u001b[0m \u001b[1;33m\u001b[0m\u001b[0m\n",
      "\u001b[1;32mC:\\ProgramData\\Anaconda3\\lib\\site-packages\\pandas\\core\\indexes\\range.py\u001b[0m in \u001b[0;36mget_loc\u001b[1;34m(self, key, method, tolerance)\u001b[0m\n\u001b[0;32m    385\u001b[0m                     \u001b[1;32mreturn\u001b[0m \u001b[0mself\u001b[0m\u001b[1;33m.\u001b[0m\u001b[0m_range\u001b[0m\u001b[1;33m.\u001b[0m\u001b[0mindex\u001b[0m\u001b[1;33m(\u001b[0m\u001b[0mnew_key\u001b[0m\u001b[1;33m)\u001b[0m\u001b[1;33m\u001b[0m\u001b[1;33m\u001b[0m\u001b[0m\n\u001b[0;32m    386\u001b[0m                 \u001b[1;32mexcept\u001b[0m \u001b[0mValueError\u001b[0m \u001b[1;32mas\u001b[0m \u001b[0merr\u001b[0m\u001b[1;33m:\u001b[0m\u001b[1;33m\u001b[0m\u001b[1;33m\u001b[0m\u001b[0m\n\u001b[1;32m--> 387\u001b[1;33m                     \u001b[1;32mraise\u001b[0m \u001b[0mKeyError\u001b[0m\u001b[1;33m(\u001b[0m\u001b[0mkey\u001b[0m\u001b[1;33m)\u001b[0m \u001b[1;32mfrom\u001b[0m \u001b[0merr\u001b[0m\u001b[1;33m\u001b[0m\u001b[1;33m\u001b[0m\u001b[0m\n\u001b[0m\u001b[0;32m    388\u001b[0m             \u001b[1;32mraise\u001b[0m \u001b[0mKeyError\u001b[0m\u001b[1;33m(\u001b[0m\u001b[0mkey\u001b[0m\u001b[1;33m)\u001b[0m\u001b[1;33m\u001b[0m\u001b[1;33m\u001b[0m\u001b[0m\n\u001b[0;32m    389\u001b[0m         \u001b[1;32mreturn\u001b[0m \u001b[0msuper\u001b[0m\u001b[1;33m(\u001b[0m\u001b[1;33m)\u001b[0m\u001b[1;33m.\u001b[0m\u001b[0mget_loc\u001b[0m\u001b[1;33m(\u001b[0m\u001b[0mkey\u001b[0m\u001b[1;33m,\u001b[0m \u001b[0mmethod\u001b[0m\u001b[1;33m=\u001b[0m\u001b[0mmethod\u001b[0m\u001b[1;33m,\u001b[0m \u001b[0mtolerance\u001b[0m\u001b[1;33m=\u001b[0m\u001b[0mtolerance\u001b[0m\u001b[1;33m)\u001b[0m\u001b[1;33m\u001b[0m\u001b[1;33m\u001b[0m\u001b[0m\n",
      "\u001b[1;31mKeyError\u001b[0m: 20"
     ]
    }
   ],
   "source": [
    "number_of_lots_call = math.ceil((delta-delta_to_maintain)/delta_per_lot_call)  #number of call lots we have to sell to keep delta of 200\n",
    "sell_avg_call = df_call_36000['Open'][0]  #selling avg of call \n",
    "profit= []\n",
    "\n",
    "for i in range(len(df)-1):\n",
    "    delta_per_lot_call = derivatives.delta(flag,df['Open'][i],K,time[i]/365,r,sigma)#Calculate delta per lot at the next closing day\n",
    "    current_number_of_lots_call = number_of_lots_call#number of lots required to sell\n",
    "    no_of_lots_added =  math.ceil((delta-delta_to_maintain)/delta_per_lot_call) - current_number_of_lots_call#number of lots added/subtracted for selling\n",
    "    sell_avg_call = df_call_36000['Open'][i]#new selling avg of call\n",
    "    number_of_lots_call = current_number_of_lots_call + no_of_lots_added#update number of lots of calls sold\n",
    "    profit.append((df_fut['Close'][i]-buy_avg_future)*no_of_lots_fut*lot_size + (sell_avg_call-df_call_36000['Close'][i])*lot_size*number_of_lots_call)  #unrealised profit \n",
    "    print(df_fut['Close'][i], buy_avg_future, sell_avg_call, df_call_36000['Close'][i])"
   ]
  },
  {
   "cell_type": "code",
   "execution_count": 70,
   "id": "71d9da03",
   "metadata": {},
   "outputs": [
    {
     "data": {
      "text/plain": [
       "470"
      ]
     },
     "execution_count": 70,
     "metadata": {},
     "output_type": "execute_result"
    }
   ],
   "source": [
    "#As you can see that the number of lots of call sold is way too many as the delta of out of money call option approches 0 in the end\n",
    "#Thus this strategy would practically be possible by changing the strike price of the call option as it goes deep out of money\n",
    "#But that would require much higher level programming thats why we have given this simple assignment jst theoretically make\n",
    "#you realise the power of hedging\n",
    "number_of_lots_call"
   ]
  },
  {
   "cell_type": "code",
   "execution_count": 71,
   "id": "e4abcf31",
   "metadata": {},
   "outputs": [
    {
     "data": {
      "text/plain": [
       "4.4"
      ]
     },
     "execution_count": 71,
     "metadata": {},
     "output_type": "execute_result"
    }
   ],
   "source": [
    "sell_avg_call"
   ]
  },
  {
   "cell_type": "code",
   "execution_count": 72,
   "id": "f379dce7",
   "metadata": {},
   "outputs": [
    {
     "data": {
      "text/plain": [
       "0.0743111846347983"
      ]
     },
     "execution_count": 72,
     "metadata": {},
     "output_type": "execute_result"
    }
   ],
   "source": [
    "delta_per_lot_call"
   ]
  },
  {
   "cell_type": "code",
   "execution_count": 73,
   "id": "328dcced",
   "metadata": {},
   "outputs": [
    {
     "data": {
      "text/plain": [
       "[3598711.2500000037,\n",
       " -2373192.500000002,\n",
       " 2849601.25,\n",
       " -768377.5000000009,\n",
       " -563781.250000001,\n",
       " 2097556.250000001,\n",
       " 515416.2500000001,\n",
       " 2027295.000000001,\n",
       " 1307187.4999999995,\n",
       " -1610322.5000000002,\n",
       " 1698281.2499999995,\n",
       " 435381.2499999992,\n",
       " -593252.4999999995,\n",
       " 544587.4999999994,\n",
       " 499858.7499999994,\n",
       " 350768.75,\n",
       " -105732.50000000032,\n",
       " 573021.2500000006,\n",
       " -58639.99999999965,\n",
       " -121000.00000000073]"
      ]
     },
     "execution_count": 73,
     "metadata": {},
     "output_type": "execute_result"
    }
   ],
   "source": [
    "profit"
   ]
  },
  {
   "cell_type": "code",
   "execution_count": 74,
   "id": "2df194e2",
   "metadata": {},
   "outputs": [
    {
     "data": {
      "text/plain": [
       "<matplotlib.legend.Legend at 0x21684d97bb0>"
      ]
     },
     "execution_count": 74,
     "metadata": {},
     "output_type": "execute_result"
    },
    {
     "data": {
      "image/png": "[encoded data removed]",
      "text/plain": [
       "<Figure size 432x288 with 1 Axes>"
      ]
     },
     "metadata": {
      "needs_background": "light"
     },
     "output_type": "display_data"
    }
   ],
   "source": [
    "plt.plot(profit[:14], label = 'strategy_profit')\n",
    "plt.plot((df_fut['Close']-df_fut['Open'][0])[:14]*250, label = 'futures_profit')\n",
    "plt.legend()"
   ]
  },
  {
   "cell_type": "markdown",
   "id": "fe0ef539",
   "metadata": {},
   "source": [
    "As you can see from the above graph of first first 14 days of the strategy that though the futures did fall very down but\n",
    "We were able to hedge this with selling of call option and our strategy did give better returns overall\n",
    "\n",
    "\n",
    "We didnt plot the whole graph as in the end many lots of call options were sold which is practically not possible"
   ]
  },
  {
   "cell_type": "code",
   "execution_count": null,
   "id": "ecde1167",
   "metadata": {},
   "outputs": [],
   "source": []
  }
 ],
 "metadata": {
  "kernelspec": {
   "display_name": "Python 3 (ipykernel)",
   "language": "python",
   "name": "python3"
  },
  "language_info": {
   "codemirror_mode": {
    "name": "ipython",
    "version": 3
   },
   "file_extension": ".py",
   "mimetype": "text/x-python",
   "name": "python",
   "nbconvert_exporter": "python",
   "pygments_lexer": "ipython3",
   "version": "3.9.7"
  }
 },
 "nbformat": 4,
 "nbformat_minor": 5
}
